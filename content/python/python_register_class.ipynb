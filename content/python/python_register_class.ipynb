{
 "cells": [
  {
   "cell_type": "markdown",
   "metadata": {},
   "source": [
    "# serilize object and deserilize a json"
   ]
  },
  {
   "cell_type": "code",
   "execution_count": 7,
   "metadata": {},
   "outputs": [],
   "source": [
    "import json"
   ]
  },
  {
   "cell_type": "code",
   "execution_count": 8,
   "metadata": {},
   "outputs": [],
   "source": [
    "class Serializable(object):\n",
    "    def __init__(self, *args):\n",
    "        self.args = args\n",
    "    \n",
    "    def serialize(self):\n",
    "        return json.dumps({'args': self.args})"
   ]
  },
  {
   "cell_type": "code",
   "execution_count": 9,
   "metadata": {},
   "outputs": [
    {
     "name": "stdout",
     "output_type": "stream",
     "text": [
      "Object:  Point2D (5,3)\n",
      "Serialized:  {\"args\": [5, 3]}\n"
     ]
    }
   ],
   "source": [
    "class Point2D(Serializable):\n",
    "    def __init__(self, x, y):\n",
    "        super().__init__(x, y)\n",
    "        self.x = x\n",
    "        self.y = y\n",
    "    \n",
    "    def __repr__(self):\n",
    "        return 'Point2D ({},{})'.format(self.x,self.y)\n",
    "    \n",
    "point = Point2D(5,3)\n",
    "print('Object: ', point)\n",
    "print('Serialized: ', point.serialize())"
   ]
  },
  {
   "cell_type": "code",
   "execution_count": 10,
   "metadata": {},
   "outputs": [],
   "source": [
    "class Deserializable(Serializable):\n",
    "    @classmethod\n",
    "    def deserialize(cls, json_data):\n",
    "        params = json.loads(json_data)\n",
    "        return cls(*params['args'])"
   ]
  },
  {
   "cell_type": "code",
   "execution_count": 13,
   "metadata": {},
   "outputs": [],
   "source": [
    "class BetterPoint2D(Deserializable):\n",
    "    def __init__(self, x, y):\n",
    "        super().__init__(x, y)\n",
    "        self.x = x\n",
    "        self.y = y\n",
    "    \n",
    "    def __repr__(self):\n",
    "        return 'Point2D ({},{})'.format(self.x,self.y)"
   ]
  },
  {
   "cell_type": "code",
   "execution_count": 15,
   "metadata": {},
   "outputs": [
    {
     "name": "stdout",
     "output_type": "stream",
     "text": [
      "Before:  Point2D (5,3)\n",
      "Serialized:  {\"args\": [5, 3]}\n",
      "After:  Point2D (5,3)\n"
     ]
    }
   ],
   "source": [
    "point = BetterPoint2D(5,3)\n",
    "print('Before: ', point)\n",
    "data = point.serialize()\n",
    "print('Serialized: ', data)\n",
    "after = BetterPoint2D.deserialize(data)\n",
    "print('After: ', after)"
   ]
  },
  {
   "cell_type": "markdown",
   "metadata": {},
   "source": [
    "# The problem with above approach is that it only works if you know the inteded type of the serialized data ahead of time (eg, Point2D)\n",
    "# To solve this, we need a more generic solution"
   ]
  },
  {
   "cell_type": "code",
   "execution_count": 17,
   "metadata": {},
   "outputs": [],
   "source": [
    "class Serializable(object):\n",
    "    def __init__(self, *args):\n",
    "        self.args = args\n",
    "    \n",
    "    def serialize(self):\n",
    "        return json.dumps({'class': self.__class__.__name__,\n",
    "                          'args': self.args})\n",
    "    \n",
    "    def __repr__(self):\n",
    "        return self.__class__.__name__"
   ]
  },
  {
   "cell_type": "code",
   "execution_count": 22,
   "metadata": {},
   "outputs": [],
   "source": [
    "registry = {}\n",
    "\n",
    "def register_class(target_class):\n",
    "    registry[target_class.__name__] = target_class\n",
    "\n",
    "def deserialize(data):\n",
    "    params = json.loads(data)\n",
    "    name = params['class']\n",
    "    target_class = registry[name]\n",
    "    return target_class(*params['args'])"
   ]
  },
  {
   "cell_type": "code",
   "execution_count": 23,
   "metadata": {},
   "outputs": [],
   "source": [
    "class EvenBetterPoint2D(BetterSerializable):\n",
    "    def __init__(self, x, y):\n",
    "        super().__init__(x, y)\n",
    "        self.x = x\n",
    "        self.y = y\n",
    "\n",
    "register_class(EvenBetterPoint2D)"
   ]
  },
  {
   "cell_type": "code",
   "execution_count": 25,
   "metadata": {},
   "outputs": [
    {
     "name": "stdout",
     "output_type": "stream",
     "text": [
      "Before:  EvenBetterPoint2D\n",
      "Serialized:  {\"class\": \"EvenBetterPoint2D\", \"args\": [5, 3]}\n",
      "{'class': 'EvenBetterPoint2D', 'args': [5, 3]}\n",
      "After:  EvenBetterPoint2D\n"
     ]
    }
   ],
   "source": [
    "point = EvenBetterPoint2D(5,3)\n",
    "print('Before: ', point)\n",
    "data = point.serialize()\n",
    "print('Serialized: ', data)\n",
    "after = deserialize(data)\n",
    "print('After: ', after)"
   ]
  },
  {
   "cell_type": "markdown",
   "metadata": {},
   "source": [
    "# The problem with above approach is we might forget registering class"
   ]
  },
  {
   "cell_type": "code",
   "execution_count": 26,
   "metadata": {},
   "outputs": [],
   "source": [
    "class Meta(type):\n",
    "    def __new__(meta, name, bases, class_dict):\n",
    "        cls = type.__new__(meta, name, bases, class_dict)\n",
    "        register_class(cls)\n",
    "        return cls\n",
    "\n",
    "class RegisteredSerializable(BetterSerializable, metaclass=Meta):\n",
    "    pass"
   ]
  },
  {
   "cell_type": "code",
   "execution_count": 28,
   "metadata": {},
   "outputs": [
    {
     "name": "stdout",
     "output_type": "stream",
     "text": [
      "Before:  Vector3D\n",
      "Serialized:  {\"class\": \"Vector3D\", \"args\": [10, -7, 3]}\n",
      "{'class': 'Vector3D', 'args': [10, -7, 3]}\n",
      "After:  Vector3D\n"
     ]
    }
   ],
   "source": [
    "class Vector3D(RegisteredSerializable):\n",
    "    def __init__(self, x, y, z):\n",
    "        super().__init__(x,y,z)\n",
    "        self.x, self.y, self.z = x ,y, z\n",
    "\n",
    "v3 = Vector3D(10, -7, 3)\n",
    "print('Before: ', v3)\n",
    "data = v3.serialize()\n",
    "print('Serialized: ', data)\n",
    "print('After: ', deserialize(data))"
   ]
  }
 ],
 "metadata": {
  "kernelspec": {
   "display_name": "Python 3",
   "language": "python",
   "name": "python3"
  },
  "language_info": {
   "codemirror_mode": {
    "name": "ipython",
    "version": 3
   },
   "file_extension": ".py",
   "mimetype": "text/x-python",
   "name": "python",
   "nbconvert_exporter": "python",
   "pygments_lexer": "ipython3",
   "version": "3.7.1"
  }
 },
 "nbformat": 4,
 "nbformat_minor": 2
}
